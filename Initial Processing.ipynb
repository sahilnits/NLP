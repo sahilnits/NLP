{
 "cells": [
  {
   "cell_type": "code",
   "execution_count": 1,
   "metadata": {},
   "outputs": [
    {
     "name": "stderr",
     "output_type": "stream",
     "text": [
      "C:\\Users\\prasa\\anaconda3\\lib\\site-packages\\pandas\\core\\computation\\expressions.py:21: UserWarning: Pandas requires version '2.7.3' or newer of 'numexpr' (version '2.7.1' currently installed).\n",
      "  from pandas.core.computation.check import NUMEXPR_INSTALLED\n"
     ]
    }
   ],
   "source": [
    "import pandas as pd\n",
    "import gzip\n",
    "\n",
    "def parse(path):\n",
    "  g = gzip.open(path, 'rb')\n",
    "  for l in g:\n",
    "    yield eval(l)\n",
    "\n",
    "def getDF(path):\n",
    "  i = 0\n",
    "  df = {}\n",
    "  for d in parse(path):\n",
    "    df[i] = d\n",
    "    i += 1\n",
    "  return pd.DataFrame.from_dict(df, orient='index')\n",
    "\n",
    "df = getDF('reviews_Automotive_5.json.gz')"
   ]
  },
  {
   "cell_type": "code",
   "execution_count": 2,
   "metadata": {},
   "outputs": [
    {
     "data": {
      "text/html": [
       "<div>\n",
       "<style scoped>\n",
       "    .dataframe tbody tr th:only-of-type {\n",
       "        vertical-align: middle;\n",
       "    }\n",
       "\n",
       "    .dataframe tbody tr th {\n",
       "        vertical-align: top;\n",
       "    }\n",
       "\n",
       "    .dataframe thead th {\n",
       "        text-align: right;\n",
       "    }\n",
       "</style>\n",
       "<table border=\"1\" class=\"dataframe\">\n",
       "  <thead>\n",
       "    <tr style=\"text-align: right;\">\n",
       "      <th></th>\n",
       "      <th>reviewerID</th>\n",
       "      <th>asin</th>\n",
       "      <th>reviewerName</th>\n",
       "      <th>helpful</th>\n",
       "      <th>reviewText</th>\n",
       "      <th>overall</th>\n",
       "      <th>summary</th>\n",
       "      <th>unixReviewTime</th>\n",
       "      <th>reviewTime</th>\n",
       "    </tr>\n",
       "  </thead>\n",
       "  <tbody>\n",
       "    <tr>\n",
       "      <th>0</th>\n",
       "      <td>A3F73SC1LY51OO</td>\n",
       "      <td>B00002243X</td>\n",
       "      <td>Alan Montgomery</td>\n",
       "      <td>[4, 4]</td>\n",
       "      <td>I needed a set of jumper cables for my new car...</td>\n",
       "      <td>5.0</td>\n",
       "      <td>Work Well - Should Have Bought Longer Ones</td>\n",
       "      <td>1313539200</td>\n",
       "      <td>08 17, 2011</td>\n",
       "    </tr>\n",
       "    <tr>\n",
       "      <th>1</th>\n",
       "      <td>A20S66SKYXULG2</td>\n",
       "      <td>B00002243X</td>\n",
       "      <td>alphonse</td>\n",
       "      <td>[1, 1]</td>\n",
       "      <td>These long cables work fine for my truck, but ...</td>\n",
       "      <td>4.0</td>\n",
       "      <td>Okay long cables</td>\n",
       "      <td>1315094400</td>\n",
       "      <td>09 4, 2011</td>\n",
       "    </tr>\n",
       "    <tr>\n",
       "      <th>2</th>\n",
       "      <td>A2I8LFSN2IS5EO</td>\n",
       "      <td>B00002243X</td>\n",
       "      <td>Chris</td>\n",
       "      <td>[0, 0]</td>\n",
       "      <td>Can't comment much on these since they have no...</td>\n",
       "      <td>5.0</td>\n",
       "      <td>Looks and feels heavy Duty</td>\n",
       "      <td>1374710400</td>\n",
       "      <td>07 25, 2013</td>\n",
       "    </tr>\n",
       "    <tr>\n",
       "      <th>3</th>\n",
       "      <td>A3GT2EWQSO45ZG</td>\n",
       "      <td>B00002243X</td>\n",
       "      <td>DeusEx</td>\n",
       "      <td>[19, 19]</td>\n",
       "      <td>I absolutley love Amazon!!!  For the price of ...</td>\n",
       "      <td>5.0</td>\n",
       "      <td>Excellent choice for Jumper Cables!!!</td>\n",
       "      <td>1292889600</td>\n",
       "      <td>12 21, 2010</td>\n",
       "    </tr>\n",
       "    <tr>\n",
       "      <th>4</th>\n",
       "      <td>A3ESWJPAVRPWB4</td>\n",
       "      <td>B00002243X</td>\n",
       "      <td>E. Hernandez</td>\n",
       "      <td>[0, 0]</td>\n",
       "      <td>I purchased the 12' feet long cable set and th...</td>\n",
       "      <td>5.0</td>\n",
       "      <td>Excellent, High Quality Starter Cables</td>\n",
       "      <td>1341360000</td>\n",
       "      <td>07 4, 2012</td>\n",
       "    </tr>\n",
       "  </tbody>\n",
       "</table>\n",
       "</div>"
      ],
      "text/plain": [
       "       reviewerID        asin     reviewerName   helpful  \\\n",
       "0  A3F73SC1LY51OO  B00002243X  Alan Montgomery    [4, 4]   \n",
       "1  A20S66SKYXULG2  B00002243X         alphonse    [1, 1]   \n",
       "2  A2I8LFSN2IS5EO  B00002243X            Chris    [0, 0]   \n",
       "3  A3GT2EWQSO45ZG  B00002243X           DeusEx  [19, 19]   \n",
       "4  A3ESWJPAVRPWB4  B00002243X     E. Hernandez    [0, 0]   \n",
       "\n",
       "                                          reviewText  overall  \\\n",
       "0  I needed a set of jumper cables for my new car...      5.0   \n",
       "1  These long cables work fine for my truck, but ...      4.0   \n",
       "2  Can't comment much on these since they have no...      5.0   \n",
       "3  I absolutley love Amazon!!!  For the price of ...      5.0   \n",
       "4  I purchased the 12' feet long cable set and th...      5.0   \n",
       "\n",
       "                                      summary  unixReviewTime   reviewTime  \n",
       "0  Work Well - Should Have Bought Longer Ones      1313539200  08 17, 2011  \n",
       "1                            Okay long cables      1315094400   09 4, 2011  \n",
       "2                  Looks and feels heavy Duty      1374710400  07 25, 2013  \n",
       "3       Excellent choice for Jumper Cables!!!      1292889600  12 21, 2010  \n",
       "4      Excellent, High Quality Starter Cables      1341360000   07 4, 2012  "
      ]
     },
     "execution_count": 2,
     "metadata": {},
     "output_type": "execute_result"
    }
   ],
   "source": [
    "df.head()"
   ]
  },
  {
   "cell_type": "code",
   "execution_count": 3,
   "metadata": {},
   "outputs": [
    {
     "name": "stdout",
     "output_type": "stream",
     "text": [
      "<class 'pandas.core.frame.DataFrame'>\n",
      "Int64Index: 20260 entries, 0 to 20472\n",
      "Data columns (total 9 columns):\n",
      " #   Column          Non-Null Count  Dtype  \n",
      "---  ------          --------------  -----  \n",
      " 0   reviewerID      20260 non-null  object \n",
      " 1   asin            20260 non-null  object \n",
      " 2   reviewerName    20260 non-null  object \n",
      " 3   helpful         20260 non-null  object \n",
      " 4   reviewText      20260 non-null  object \n",
      " 5   overall         20260 non-null  float64\n",
      " 6   summary         20260 non-null  object \n",
      " 7   unixReviewTime  20260 non-null  int64  \n",
      " 8   reviewTime      20260 non-null  object \n",
      "dtypes: float64(1), int64(1), object(7)\n",
      "memory usage: 1.5+ MB\n"
     ]
    }
   ],
   "source": [
    "# df = df[['reviewerID', 'asin', 'reviewerName', 'reviewText', 'overall','summary']]\n",
    "df.reviewText.fillna('', inplace=True)\n",
    "# df['description'] = df['tagline'].map(str) + ' ' + df['overview']\n",
    "df.dropna(inplace=True)\n",
    "df.info()"
   ]
  },
  {
   "cell_type": "code",
   "execution_count": 15,
   "metadata": {},
   "outputs": [
    {
     "data": {
      "text/plain": [
       "asin        overall\n",
       "B00002243X  5.0        8\n",
       "            4.0        2\n",
       "B00002243Z  4.0        4\n",
       "            5.0        2\n",
       "B00008BKX5  5.0        4\n",
       "                      ..\n",
       "B00JGP8I1S  4.0        2\n",
       "B00KIAQ8VW  5.0        6\n",
       "            2.0        2\n",
       "            4.0        1\n",
       "            3.0        1\n",
       "Length: 4906, dtype: int64"
      ]
     },
     "execution_count": 15,
     "metadata": {},
     "output_type": "execute_result"
    }
   ],
   "source": [
    "df[['overall', 'asin']].groupby(['asin']).value_counts()"
   ]
  },
  {
   "cell_type": "code",
   "execution_count": 22,
   "metadata": {},
   "outputs": [
    {
     "data": {
      "text/plain": [
       "10"
      ]
     },
     "execution_count": 22,
     "metadata": {},
     "output_type": "execute_result"
    }
   ],
   "source": [
    "(df['asin'] == 'B00002243X').sum()"
   ]
  },
  {
   "cell_type": "code",
   "execution_count": 12,
   "metadata": {},
   "outputs": [
    {
     "data": {
      "text/plain": [
       "5.0    13787\n",
       "4.0     3927\n",
       "3.0     1413\n",
       "2.0      597\n",
       "1.0      536\n",
       "Name: overall, dtype: int64"
      ]
     },
     "execution_count": 12,
     "metadata": {},
     "output_type": "execute_result"
    }
   ],
   "source": [
    "df['overall'].value_counts()"
   ]
  },
  {
   "cell_type": "code",
   "execution_count": 4,
   "metadata": {},
   "outputs": [
    {
     "data": {
      "text/plain": [
       "20260"
      ]
     },
     "execution_count": 4,
     "metadata": {},
     "output_type": "execute_result"
    }
   ],
   "source": [
    "import nltk\n",
    "import re\n",
    "import numpy as np\n",
    "\n",
    "stop_words = nltk.corpus.stopwords.words('english')\n",
    "\n",
    "def normalize_document(doc):\n",
    "    # lower case and remove special characters\\whitespaces\n",
    "    doc = re.sub(r'[^a-zA-Z0-9\\s]', '', doc, re.I|re.A)\n",
    "    doc = doc.lower()\n",
    "    doc = doc.strip()\n",
    "    # tokenize document\n",
    "    tokens = nltk.word_tokenize(doc)\n",
    "    # filter stopwords out of document\n",
    "    filtered_tokens = [token for token in tokens if token not in stop_words]\n",
    "    # re-create document from filtered tokens\n",
    "    doc = ' '.join(filtered_tokens)\n",
    "    return doc\n",
    "\n",
    "normalize_corpus = np.vectorize(normalize_document)\n",
    "\n",
    "norm_corpus = normalize_corpus(list(df['reviewText']))\n",
    "len(norm_corpus)"
   ]
  },
  {
   "cell_type": "code",
   "execution_count": 11,
   "metadata": {},
   "outputs": [
    {
     "data": {
      "text/plain": [
       "array(['needed set jumper cables new car good reviews good price used times already supposed complaints therewhat say 12 feet really isnt ideal length sure pull front bumper front bumper plenty long lot times beside another car cant get really close would recommend something little longer 12great brand get 16 version though',\n",
       "       'long cables work fine truck quality seems little shabby side money expecting 200 dollar snapon jumper cables seem like would see chinese knock shop like harbor freight 30 bucks',\n",
       "       'cant comment much since yet used come back update review find issues first use built solid nice tough big hard clamps love long cable never move cars around anything needed bought new truck since always need cables another reason tow travel trailer run batteries shore power may die couple days need quick small recharge perfect length pop hood run cables back truck hook batteries tongue travel trailer running truck 3045 minutes nice large gauge wire connected battery tot trailer battery give bit charge ever pinch shore power solar generator rechargebought bucket boss 06009 jumper cable bag fit 25 footer perfectlyit use waste money right easily pay first time need always prepared',\n",
       "       ...,\n",
       "       'love skull face mask makes outstand rest fellow riders everybody wants one every go priced order give guiff really cool',\n",
       "       'mask course described halfface long protection neck great cut wind jacket keep tucked',\n",
       "       'good light weight cool nights rain half helmet almost like wearing one light'],\n",
       "      dtype='<U9717')"
      ]
     },
     "execution_count": 11,
     "metadata": {},
     "output_type": "execute_result"
    }
   ],
   "source": [
    "norm_corpus"
   ]
  },
  {
   "cell_type": "code",
   "execution_count": 7,
   "metadata": {},
   "outputs": [
    {
     "data": {
      "text/plain": [
       "(20260, 115867)"
      ]
     },
     "execution_count": 7,
     "metadata": {},
     "output_type": "execute_result"
    }
   ],
   "source": [
    "from sklearn.feature_extraction.text import TfidfVectorizer\n",
    "\n",
    "\n",
    "tf = TfidfVectorizer(ngram_range=(1, 2), min_df=2)\n",
    "tfidf_matrix = tf.fit_transform(norm_corpus)\n",
    "tfidf_matrix = tfidf_matrix.toarray()\n",
    "vocab = tf.get_feature_names()\n",
    "pd.DataFrame (np.round(tfidf_matrix, 2), columns = vocab)\n",
    "tfidf_matrix.shape"
   ]
  },
  {
   "cell_type": "code",
   "execution_count": 11,
   "metadata": {},
   "outputs": [
    {
     "data": {
      "text/html": [
       "<div>\n",
       "<style scoped>\n",
       "    .dataframe tbody tr th:only-of-type {\n",
       "        vertical-align: middle;\n",
       "    }\n",
       "\n",
       "    .dataframe tbody tr th {\n",
       "        vertical-align: top;\n",
       "    }\n",
       "\n",
       "    .dataframe thead th {\n",
       "        text-align: right;\n",
       "    }\n",
       "</style>\n",
       "<table border=\"1\" class=\"dataframe\">\n",
       "  <thead>\n",
       "    <tr style=\"text-align: right;\">\n",
       "      <th></th>\n",
       "      <th>0</th>\n",
       "      <th>1</th>\n",
       "      <th>2</th>\n",
       "      <th>3</th>\n",
       "      <th>4</th>\n",
       "      <th>5</th>\n",
       "      <th>6</th>\n",
       "      <th>7</th>\n",
       "      <th>8</th>\n",
       "      <th>9</th>\n",
       "      <th>...</th>\n",
       "      <th>20250</th>\n",
       "      <th>20251</th>\n",
       "      <th>20252</th>\n",
       "      <th>20253</th>\n",
       "      <th>20254</th>\n",
       "      <th>20255</th>\n",
       "      <th>20256</th>\n",
       "      <th>20257</th>\n",
       "      <th>20258</th>\n",
       "      <th>20259</th>\n",
       "    </tr>\n",
       "  </thead>\n",
       "  <tbody>\n",
       "    <tr>\n",
       "      <th>0</th>\n",
       "      <td>1.000000</td>\n",
       "      <td>0.075296</td>\n",
       "      <td>0.036320</td>\n",
       "      <td>0.080788</td>\n",
       "      <td>0.070488</td>\n",
       "      <td>0.083307</td>\n",
       "      <td>0.046316</td>\n",
       "      <td>0.026017</td>\n",
       "      <td>0.000000</td>\n",
       "      <td>0.016370</td>\n",
       "      <td>...</td>\n",
       "      <td>0.000000</td>\n",
       "      <td>0.003959</td>\n",
       "      <td>0.000000</td>\n",
       "      <td>0.000000</td>\n",
       "      <td>0.000000</td>\n",
       "      <td>0.000000</td>\n",
       "      <td>0.018239</td>\n",
       "      <td>0.009784</td>\n",
       "      <td>0.007793</td>\n",
       "      <td>0.007001</td>\n",
       "    </tr>\n",
       "    <tr>\n",
       "      <th>1</th>\n",
       "      <td>0.075296</td>\n",
       "      <td>1.000000</td>\n",
       "      <td>0.064049</td>\n",
       "      <td>0.078815</td>\n",
       "      <td>0.106873</td>\n",
       "      <td>0.150348</td>\n",
       "      <td>0.043456</td>\n",
       "      <td>0.000000</td>\n",
       "      <td>0.009713</td>\n",
       "      <td>0.016958</td>\n",
       "      <td>...</td>\n",
       "      <td>0.000000</td>\n",
       "      <td>0.012938</td>\n",
       "      <td>0.000000</td>\n",
       "      <td>0.000000</td>\n",
       "      <td>0.000000</td>\n",
       "      <td>0.005540</td>\n",
       "      <td>0.025009</td>\n",
       "      <td>0.000000</td>\n",
       "      <td>0.011556</td>\n",
       "      <td>0.010646</td>\n",
       "    </tr>\n",
       "    <tr>\n",
       "      <th>2</th>\n",
       "      <td>0.036320</td>\n",
       "      <td>0.064049</td>\n",
       "      <td>1.000000</td>\n",
       "      <td>0.127618</td>\n",
       "      <td>0.070832</td>\n",
       "      <td>0.113439</td>\n",
       "      <td>0.059027</td>\n",
       "      <td>0.018355</td>\n",
       "      <td>0.072625</td>\n",
       "      <td>0.109039</td>\n",
       "      <td>...</td>\n",
       "      <td>0.000000</td>\n",
       "      <td>0.006450</td>\n",
       "      <td>0.006957</td>\n",
       "      <td>0.004550</td>\n",
       "      <td>0.003141</td>\n",
       "      <td>0.013590</td>\n",
       "      <td>0.012143</td>\n",
       "      <td>0.011159</td>\n",
       "      <td>0.004983</td>\n",
       "      <td>0.000000</td>\n",
       "    </tr>\n",
       "    <tr>\n",
       "      <th>3</th>\n",
       "      <td>0.080788</td>\n",
       "      <td>0.078815</td>\n",
       "      <td>0.127618</td>\n",
       "      <td>1.000000</td>\n",
       "      <td>0.093464</td>\n",
       "      <td>0.171662</td>\n",
       "      <td>0.085736</td>\n",
       "      <td>0.043613</td>\n",
       "      <td>0.067399</td>\n",
       "      <td>0.049353</td>\n",
       "      <td>...</td>\n",
       "      <td>0.011424</td>\n",
       "      <td>0.009586</td>\n",
       "      <td>0.005516</td>\n",
       "      <td>0.016181</td>\n",
       "      <td>0.005617</td>\n",
       "      <td>0.005621</td>\n",
       "      <td>0.030724</td>\n",
       "      <td>0.016760</td>\n",
       "      <td>0.015712</td>\n",
       "      <td>0.012260</td>\n",
       "    </tr>\n",
       "    <tr>\n",
       "      <th>4</th>\n",
       "      <td>0.070488</td>\n",
       "      <td>0.106873</td>\n",
       "      <td>0.070832</td>\n",
       "      <td>0.093464</td>\n",
       "      <td>1.000000</td>\n",
       "      <td>0.118312</td>\n",
       "      <td>0.045347</td>\n",
       "      <td>0.000000</td>\n",
       "      <td>0.031431</td>\n",
       "      <td>0.032223</td>\n",
       "      <td>...</td>\n",
       "      <td>0.000000</td>\n",
       "      <td>0.000000</td>\n",
       "      <td>0.000000</td>\n",
       "      <td>0.011637</td>\n",
       "      <td>0.000000</td>\n",
       "      <td>0.000000</td>\n",
       "      <td>0.027302</td>\n",
       "      <td>0.000000</td>\n",
       "      <td>0.016148</td>\n",
       "      <td>0.000000</td>\n",
       "    </tr>\n",
       "  </tbody>\n",
       "</table>\n",
       "<p>5 rows × 20260 columns</p>\n",
       "</div>"
      ],
      "text/plain": [
       "      0         1         2         3         4         5         6      \\\n",
       "0  1.000000  0.075296  0.036320  0.080788  0.070488  0.083307  0.046316   \n",
       "1  0.075296  1.000000  0.064049  0.078815  0.106873  0.150348  0.043456   \n",
       "2  0.036320  0.064049  1.000000  0.127618  0.070832  0.113439  0.059027   \n",
       "3  0.080788  0.078815  0.127618  1.000000  0.093464  0.171662  0.085736   \n",
       "4  0.070488  0.106873  0.070832  0.093464  1.000000  0.118312  0.045347   \n",
       "\n",
       "      7         8         9      ...     20250     20251     20252     20253  \\\n",
       "0  0.026017  0.000000  0.016370  ...  0.000000  0.003959  0.000000  0.000000   \n",
       "1  0.000000  0.009713  0.016958  ...  0.000000  0.012938  0.000000  0.000000   \n",
       "2  0.018355  0.072625  0.109039  ...  0.000000  0.006450  0.006957  0.004550   \n",
       "3  0.043613  0.067399  0.049353  ...  0.011424  0.009586  0.005516  0.016181   \n",
       "4  0.000000  0.031431  0.032223  ...  0.000000  0.000000  0.000000  0.011637   \n",
       "\n",
       "      20254     20255     20256     20257     20258     20259  \n",
       "0  0.000000  0.000000  0.018239  0.009784  0.007793  0.007001  \n",
       "1  0.000000  0.005540  0.025009  0.000000  0.011556  0.010646  \n",
       "2  0.003141  0.013590  0.012143  0.011159  0.004983  0.000000  \n",
       "3  0.005617  0.005621  0.030724  0.016760  0.015712  0.012260  \n",
       "4  0.000000  0.000000  0.027302  0.000000  0.016148  0.000000  \n",
       "\n",
       "[5 rows x 20260 columns]"
      ]
     },
     "execution_count": 11,
     "metadata": {},
     "output_type": "execute_result"
    }
   ],
   "source": [
    "from sklearn.metrics.pairwise import cosine_similarity\n",
    "\n",
    "doc_sim = cosine_similarity(tfidf_matrix)\n",
    "doc_sim_df = pd.DataFrame(doc_sim)\n",
    "doc_sim_df.head()"
   ]
  }
 ],
 "metadata": {
  "kernelspec": {
   "display_name": "Python 3 (ipykernel)",
   "language": "python",
   "name": "python3"
  },
  "language_info": {
   "codemirror_mode": {
    "name": "ipython",
    "version": 3
   },
   "file_extension": ".py",
   "mimetype": "text/x-python",
   "name": "python",
   "nbconvert_exporter": "python",
   "pygments_lexer": "ipython3",
   "version": "3.8.5"
  }
 },
 "nbformat": 4,
 "nbformat_minor": 4
}
